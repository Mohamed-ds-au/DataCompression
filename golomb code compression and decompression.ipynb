{
 "cells": [
  {
   "cell_type": "code",
   "execution_count": 20,
   "metadata": {},
   "outputs": [],
   "source": [
    "import math"
   ]
  },
  {
   "cell_type": "markdown",
   "metadata": {},
   "source": [
    "# golomb code function for compression"
   ]
  },
  {
   "cell_type": "code",
   "execution_count": 21,
   "metadata": {},
   "outputs": [],
   "source": [
    "def golomb_encode(n, m):\n",
    "    \"\"\"Encodes an integer n using Golomb coding with divisor m.\"\"\"\n",
    "    # Calculate quotient and remainder\n",
    "    q = n // m  \n",
    "    r = n % m   \n",
    "\n",
    "    # Unary code for the quotient\n",
    "    unary_code = '1' * q + '0'\n",
    "    \n",
    "    # Calculate the number of bits needed for the binary representation of the remainder\n",
    "    b = math.ceil(math.log2(m))\n",
    "    if (1 << b) - m > r:\n",
    "        b -= 1\n",
    "\n",
    "    # Binary code for the remainder\n",
    "    binary_code = format(r, f'0{b}b')\n",
    "    \n",
    "    return unary_code + binary_code"
   ]
  },
  {
   "cell_type": "markdown",
   "metadata": {},
   "source": [
    "# test on numbers"
   ]
  },
  {
   "cell_type": "code",
   "execution_count": null,
   "metadata": {},
   "outputs": [
    {
     "name": "stdout",
     "output_type": "stream",
     "text": [
      "Original number: 21\n",
      "Encoded: 1111001\n"
     ]
    }
   ],
   "source": [
    "# test 1\n",
    "m = 5  \n",
    "number_to_encode = 21\n",
    "encoded = golomb_encode(number_to_encode, m)\n",
    "print(f\"Original number: {number_to_encode}\")\n",
    "print(f\"Encoded: {encoded}\")"
   ]
  },
  {
   "cell_type": "markdown",
   "metadata": {},
   "source": [
    "# test for array on numbers"
   ]
  },
  {
   "cell_type": "code",
   "execution_count": null,
   "metadata": {},
   "outputs": [],
   "source": [
    "# test 2\n",
    "m = 4  \n",
    "numbers_to_encode = [10, 15, 23, 34, 45, 56, 78, 100, 150, 200]\n",
    "encoded_data = [golomb_encode(number, m) for number in numbers_to_encode]"
   ]
  },
  {
   "cell_type": "code",
   "execution_count": 24,
   "metadata": {},
   "outputs": [
    {
     "name": "stdout",
     "output_type": "stream",
     "text": [
      "Original numbers: [10, 15, 23, 34, 45, 56, 78, 100, 150, 200]\n",
      "Encoded data: ['11010', '111011', '11111011', '11111111010', '11111111111001', '11111111111111000', '1111111111111111111010', '1111111111111111111111111000', '1111111111111111111111111111111111111010', '11111111111111111111111111111111111111111111111111000']\n"
     ]
    }
   ],
   "source": [
    "# Print results\n",
    "print(\"Original numbers:\", numbers_to_encode)\n",
    "print(\"Encoded data:\", encoded_data)"
   ]
  },
  {
   "cell_type": "markdown",
   "metadata": {},
   "source": [
    "# golomb code function for decompression"
   ]
  },
  {
   "cell_type": "code",
   "execution_count": 25,
   "metadata": {},
   "outputs": [],
   "source": [
    "def golomb_decode(encoded, m):\n",
    "    \"\"\"Decodes a Golomb-encoded string with divisor m.\"\"\"\n",
    "    #Decode the unary code to get the quotient\n",
    "    q = 0\n",
    "    i = 0\n",
    "    while i < len(encoded) and encoded[i] == '1':\n",
    "        q += 1\n",
    "        i += 1\n",
    "    \n",
    "    #Move '0' at end of the unary code\n",
    "    i += 1\n",
    "\n",
    "    #Decode the binary code to get the remainder\n",
    "    #Calculate the number of bits required for the binary part\n",
    "    b = math.ceil(math.log2(m))\n",
    "    if (1 << b) - m > 0:\n",
    "        b -= 1\n",
    "    \n",
    "    #Read the binary part and convert it to an integer\n",
    "    r = int(encoded[i:i + b], 2) #remainder\n",
    "    \n",
    "    #Compute the original number\n",
    "    decoded_number = q * m + r\n",
    "    return decoded_number\n"
   ]
  },
  {
   "cell_type": "markdown",
   "metadata": {},
   "source": [
    "# test on numbers       "
   ]
  },
  {
   "cell_type": "code",
   "execution_count": null,
   "metadata": {},
   "outputs": [
    {
     "name": "stdout",
     "output_type": "stream",
     "text": [
      "21\n"
     ]
    }
   ],
   "source": [
    "#test 1\n",
    "test1 =golomb_decode('1111001',5)\n",
    "print(test)"
   ]
  },
  {
   "cell_type": "markdown",
   "metadata": {},
   "source": [
    "# test on array of numbers"
   ]
  },
  {
   "cell_type": "code",
   "execution_count": null,
   "metadata": {},
   "outputs": [
    {
     "name": "stdout",
     "output_type": "stream",
     "text": [
      "Encoded data: ['11010', '111011', '11111011', '11111111010', '11111111111001', '11111111111111000', '1111111111111111111010', '1111111111111111111111111000', '1111111111111111111111111111111111111010', '11111111111111111111111111111111111111111111111111000']\n",
      "Decoded numbers: [10, 15, 23, 34, 45, 56, 78, 100, 150, 200]\n"
     ]
    }
   ],
   "source": [
    "# test 2\n",
    "test2 = [golomb_decode(encoded, m) for encoded in encoded_data]\n",
    "\n",
    "# Print results\n",
    "print(\"Encoded data:\", encoded_data)\n",
    "print(\"Decoded numbers:\", test2)"
   ]
  }
 ],
 "metadata": {
  "kernelspec": {
   "display_name": "base",
   "language": "python",
   "name": "python3"
  },
  "language_info": {
   "codemirror_mode": {
    "name": "ipython",
    "version": 3
   },
   "file_extension": ".py",
   "mimetype": "text/x-python",
   "name": "python",
   "nbconvert_exporter": "python",
   "pygments_lexer": "ipython3",
   "version": "3.12.4"
  }
 },
 "nbformat": 4,
 "nbformat_minor": 2
}
